{
 "cells": [
  {
   "cell_type": "markdown",
   "id": "ff82c880",
   "metadata": {},
   "source": [
    "W3A2"
   ]
  },
  {
   "cell_type": "code",
   "execution_count": 10,
   "id": "d840b000",
   "metadata": {},
   "outputs": [
    {
     "data": {
      "text/plain": [
       "True"
      ]
     },
     "execution_count": 10,
     "metadata": {},
     "output_type": "execute_result"
    }
   ],
   "source": [
    "#AND \n",
    "1&0==0\n",
    "1&1==1\n",
    "0&0==0\n",
    "#OR \n",
    "1 or 0 == 1\n",
    "1 or 1 == 1\n",
    "0 or 0 == 0\n",
    "#XOR \n",
    "1^0==1\n",
    "1^1==0\n",
    "0^0==0"
   ]
  },
  {
   "cell_type": "markdown",
   "id": "64d81b12",
   "metadata": {},
   "source": [
    "W3A3"
   ]
  },
  {
   "cell_type": "code",
   "execution_count": null,
   "id": "527dcaad",
   "metadata": {},
   "outputs": [
    {
     "name": "stdout",
     "output_type": "stream",
     "text": [
      "Bội của 2\n"
     ]
    }
   ],
   "source": [
    "a = int(input())\n",
    "if a & (a-1) ==0:\n",
    "    print('Bội của 2')\n",
    "else:\n",
    "    print('Không là bội của 2')"
   ]
  },
  {
   "cell_type": "markdown",
   "id": "be683471",
   "metadata": {},
   "source": [
    "W3A4"
   ]
  },
  {
   "cell_type": "code",
   "execution_count": null,
   "id": "d41458ba",
   "metadata": {},
   "outputs": [
    {
     "name": "stdout",
     "output_type": "stream",
     "text": [
      "2.0\n"
     ]
    }
   ],
   "source": [
    "m = float(input())\n",
    "n = float(input())\n",
    "print(m//n)"
   ]
  },
  {
   "cell_type": "markdown",
   "id": "be86bbf8",
   "metadata": {},
   "source": [
    "W3A5"
   ]
  },
  {
   "cell_type": "code",
   "execution_count": null,
   "id": "70099d6b",
   "metadata": {},
   "outputs": [
    {
     "name": "stdout",
     "output_type": "stream",
     "text": [
      "3.0\n"
     ]
    }
   ],
   "source": [
    "m = float(input())\n",
    "n = float(input())\n",
    "print((m+n-1)//n)"
   ]
  },
  {
   "cell_type": "markdown",
   "id": "ddf8b888",
   "metadata": {},
   "source": [
    "W3A6"
   ]
  },
  {
   "cell_type": "code",
   "execution_count": null,
   "id": "3e2ecc8b",
   "metadata": {},
   "outputs": [],
   "source": [
    "n = int(input())\n",
    "if n%2==0:\n",
    "    print('Even')\n",
    "else:\n",
    "    print('Odd')"
   ]
  },
  {
   "cell_type": "markdown",
   "id": "81fc16fa",
   "metadata": {},
   "source": [
    "W3A7"
   ]
  },
  {
   "cell_type": "code",
   "execution_count": null,
   "id": "69e865ec",
   "metadata": {},
   "outputs": [],
   "source": [
    "a = int(input())\n",
    "b = int(input())\n",
    "if a<0 and b<0:\n",
    "    print('yes')\n",
    "else:\n",
    "    print('no')"
   ]
  },
  {
   "cell_type": "markdown",
   "id": "237df745",
   "metadata": {},
   "source": [
    "W3A8"
   ]
  },
  {
   "cell_type": "code",
   "execution_count": null,
   "id": "1dbdd262",
   "metadata": {},
   "outputs": [
    {
     "name": "stdout",
     "output_type": "stream",
     "text": [
      "True\n"
     ]
    }
   ],
   "source": [
    "a = input()\n",
    "b = input()\n",
    "if len(a)>len(b):\n",
    "    print('True')\n",
    "else:\n",
    "    print('False')\n",
    "    "
   ]
  },
  {
   "cell_type": "markdown",
   "id": "a6e66513",
   "metadata": {},
   "source": [
    "W3A9"
   ]
  },
  {
   "cell_type": "code",
   "execution_count": null,
   "id": "81c9b527",
   "metadata": {},
   "outputs": [
    {
     "name": "stdout",
     "output_type": "stream",
     "text": [
      "Yes\n"
     ]
    }
   ],
   "source": [
    "a,b,c = map(float,input().split())\n",
    "if (a+b)>c and (b+c)>a and (a+c)>b:\n",
    "    print('Yes')\n",
    "else:\n",
    "    print('No')\n",
    "    "
   ]
  },
  {
   "cell_type": "markdown",
   "id": "5b1109b0",
   "metadata": {},
   "source": [
    "W3A10"
   ]
  },
  {
   "cell_type": "code",
   "execution_count": null,
   "id": "4ae4cfd4",
   "metadata": {},
   "outputs": [
    {
     "name": "stdout",
     "output_type": "stream",
     "text": [
      "4\n"
     ]
    }
   ],
   "source": [
    "a,b,c,d = map(int,input().split())\n",
    "if a-b>0 and a-c>0 and a-d>0:\n",
    "    print(a)\n",
    "elif b-a>0 and b-c>0 and b-d>0:\n",
    "    print(b)\n",
    "elif c-a>0 and c-b>0 and c-d>0:\n",
    "    print(c)\n",
    "else:\n",
    "    print(d)"
   ]
  },
  {
   "cell_type": "markdown",
   "id": "acbd1a22",
   "metadata": {},
   "source": [
    "W3A11"
   ]
  },
  {
   "cell_type": "code",
   "execution_count": null,
   "id": "8c34b238",
   "metadata": {},
   "outputs": [
    {
     "name": "stdout",
     "output_type": "stream",
     "text": [
      "Tam giác cân\n"
     ]
    }
   ],
   "source": [
    "a,b,c = map(int,input().split())\n",
    "if (a+b)>c and (b+c)>a and (a+c)>b:\n",
    "    if a==b==c:\n",
    "        print('Tam giác đều')\n",
    "    elif a==b or a==c or b==c:\n",
    "        print('Tam giác cân')\n",
    "    else:\n",
    "        print('Tam giác thường')\n",
    "else:\n",
    "    print('Không phải tam giác')"
   ]
  },
  {
   "cell_type": "markdown",
   "id": "97d1975b",
   "metadata": {},
   "source": [
    "W3A12"
   ]
  },
  {
   "cell_type": "code",
   "execution_count": null,
   "id": "22deb0ee",
   "metadata": {},
   "outputs": [
    {
     "name": "stdout",
     "output_type": "stream",
     "text": [
      "Năm nhuận\n"
     ]
    }
   ],
   "source": [
    "n = int(input())\n",
    "if n%400==0:\n",
    "    print('Năm nhuận')\n",
    "elif n%4==0 and n%100!=0:\n",
    "    print('Năm nhuận')"
   ]
  },
  {
   "cell_type": "markdown",
   "id": "0acf017d",
   "metadata": {},
   "source": [
    "W3A14"
   ]
  },
  {
   "cell_type": "code",
   "execution_count": null,
   "id": "2ae9b233",
   "metadata": {},
   "outputs": [
    {
     "name": "stdout",
     "output_type": "stream",
     "text": [
      "-0.41\n"
     ]
    }
   ],
   "source": [
    "a = float(input())\n",
    "b = float(input())\n",
    "if a==0 and b==0:\n",
    "    print('Vô số nghiệm')\n",
    "elif a==0 and b!=0:\n",
    "    print('Vô nghiệm')\n",
    "else:\n",
    "    print(round((-b/a),2))"
   ]
  },
  {
   "cell_type": "markdown",
   "id": "b69a0ac6",
   "metadata": {},
   "source": [
    "W3A15"
   ]
  },
  {
   "cell_type": "code",
   "execution_count": null,
   "id": "3510657e",
   "metadata": {},
   "outputs": [
    {
     "name": "stdout",
     "output_type": "stream",
     "text": [
      "Yếu\n"
     ]
    }
   ],
   "source": [
    "n = float(input())\n",
    "if n>=8.5:\n",
    "    print('Giỏi')\n",
    "elif n>=6.5:\n",
    "    print('Khá')\n",
    "elif n>=5:\n",
    "    print('Trung bình')\n",
    "else:\n",
    "    print('Yếu')"
   ]
  },
  {
   "cell_type": "markdown",
   "id": "6ed1f6dd",
   "metadata": {},
   "source": [
    "W3A16"
   ]
  },
  {
   "cell_type": "code",
   "execution_count": null,
   "id": "e2fcb2db",
   "metadata": {},
   "outputs": [
    {
     "name": "stdout",
     "output_type": "stream",
     "text": [
      "5\n"
     ]
    }
   ],
   "source": [
    "a=float(input())\n",
    "b=int(a)\n",
    "if (a-b)>=0.5:\n",
    "    print(b+1)\n",
    "else:\n",
    "    print(b)"
   ]
  },
  {
   "cell_type": "markdown",
   "id": "a65c7aa7",
   "metadata": {},
   "source": [
    "W3A17"
   ]
  },
  {
   "cell_type": "code",
   "execution_count": null,
   "id": "853d09d6",
   "metadata": {},
   "outputs": [
    {
     "name": "stdout",
     "output_type": "stream",
     "text": [
      "Là cấp số nhân\n"
     ]
    }
   ],
   "source": [
    "a,b,c,d = map(int,input().split())\n",
    "if b%a==0:\n",
    "    if b/a==c/b==d/c:\n",
    "        print('Là cấp số nhân')"
   ]
  }
 ],
 "metadata": {
  "kernelspec": {
   "display_name": "Python 3",
   "language": "python",
   "name": "python3"
  },
  "language_info": {
   "codemirror_mode": {
    "name": "ipython",
    "version": 3
   },
   "file_extension": ".py",
   "mimetype": "text/x-python",
   "name": "python",
   "nbconvert_exporter": "python",
   "pygments_lexer": "ipython3",
   "version": "3.13.7"
  }
 },
 "nbformat": 4,
 "nbformat_minor": 5
}
